{
 "cells": [
  {
   "cell_type": "markdown",
   "id": "498731c6",
   "metadata": {},
   "source": [
    "# Actividad - Trabajando con Series de Pandas.\n",
    "## Criterios de evaluación.\n",
    "\n",
    "* Se deben utilizar nombres de variables descriptivos y claros (Utilizar la nomeclatura correspondiente para los nombres de variables).\n",
    "* Comentarios claros y concisos que expliquen el propósito de cada sección del código.\n",
    "* Utilizar mensajes de commit **descriptivos**. (Puedes utilizar la extension CONVENTIONAL COMMIT de VS-CODE). \n",
    "* Entrega en tiempo y forma.\n",
    "* Todo el código desarrollado debe ser subido a un repositorio en GitHub (el nombre del repositorio de seguir la siguiente estructura: actividad_tlp3_nombre_apellido).\n",
    "* Para resolver las actividades se debe insertar casillas de codigo entre cada actividad del cuaderno de Jupyter\n",
    "\n",
    "### ¡Importante!\n",
    "**El incumplimiento de los criterios de evaluación restará puntos en la nota final del práctico!**"
   ]
  },
  {
   "cell_type": "markdown",
   "id": "b361a7b6",
   "metadata": {},
   "source": [
    "### **Actividad 1:** \n",
    "\n",
    "Crear Series desde diferentes estructuras.\n",
    "* Crea una Series con los números del 1 al 5\n",
    "* Crea una Series a partir de un diccionario con nombres de países como claves y sus capitales como valores."
   ]
  },
  {
   "cell_type": "code",
   "execution_count": null,
   "id": "26009294",
   "metadata": {},
   "outputs": [],
   "source": [
    "\n",
    "# todo:\n",
    "import pandas as pd\n",
    "# Serie con los números del 1 al 5\n",
    "numeros = pd.Series([1, 2, 3, 4, 5])\n",
    "print(\"Serie de números:\")\n",
    "print(numeros)\n",
    "\n",
    "# Serie con países y sus capitales\n",
    "capitales = {\"Argentina\": \"Buenos Aires\", \"Uruguay\": \"Montevideo\", \"Chile\": \"Santiago\"}\n",
    "serie_capitales = pd.Series(capitales)\n",
    "print(\"\\nSerie de capitales:\")\n",
    "print(serie_capitales)"
   ]
  },
  {
   "cell_type": "markdown",
   "id": "0c239195",
   "metadata": {},
   "source": [
    "### **Actividad 2:** \n",
    "Acceso y selección de elementos.\n",
    "* Usa una Series con tareas (que haceres cotidianos) de una semana\n",
    "* Accede a diferentes elementos a elección.\n",
    "* Cambia los valores de los dias pares.\n"
   ]
  },
  {
   "cell_type": "code",
   "execution_count": null,
   "id": "3611d25a",
   "metadata": {},
   "outputs": [],
   "source": [
    "\n",
    "# todo:\n",
    "# Serie con tareas diarias\n",
    "tareas_semana = pd.Series([\"Lavar la ropa\", \"Ir al supermercado\", \"Estudiar\", \"Caminar\", \"Cocinar\", \"Labar cubiertos\", \"Descansar\"],\n",
    " index=[\"Lunes\", \"Martes\", \"Miércoles\", \"Jueves\", \"Viernes\", \"Sábado\", \"Domingo\"])\n",
    "\n",
    "print(\"Tareas de la semana:\")\n",
    "print(tareas_semana)\n",
    "\n",
    "# Acceso a tareas de días específicos\n",
    "print(\"\\nTarea del Lunes:\", tareas_semana[\"Lunes\"])\n",
    "print(\"Tareas del fin de semana:\")\n",
    "print(tareas_semana[[\"Sábado\", \"Domingo\"]])\n",
    "\n",
    "# Cambiar tareas de días pares (Martes, Jueves, Sábado)\n",
    "tareas_semana[\"Martes\"] = \"Pagar cuentas\"\n",
    "tareas_semana[\"Jueves\"] = \"Limpiar la casa\"\n",
    "tareas_semana[\"Sábado\"] = \"Hacer compras\"\n",
    "\n",
    "print(\"\\nTareas modificadas en días pares:\")\n",
    "print(tareas_semana)\n"
   ]
  },
  {
   "cell_type": "markdown",
   "id": "70a24b97",
   "metadata": {},
   "source": [
    "### **Actividad 3:**\n",
    "Operaciones aritméticas. \n",
    "* Realiza las operaciones basicas con 2 series cuales quieran.\n",
    "* Eleva los valores de la primer serie a 3 potencias difetentes."
   ]
  },
  {
   "cell_type": "code",
   "execution_count": null,
   "id": "a9c8ebc7",
   "metadata": {},
   "outputs": [],
   "source": [
    "\n",
    "# todo:\n",
    "# Crear dos series de números\n",
    "serie1 = pd.Series([20, 30, 40, 50, 60])\n",
    "serie2 = pd.Series([1, 2, 3, 4, 5])\n",
    "\n",
    "# Operaciones básicas\n",
    "suma = serie1 + serie2\n",
    "resta = serie1 - serie2\n",
    "producto = serie1 * serie2\n",
    "division = serie1 / serie2\n",
    "\n",
    "print(\"Suma:\\n\", suma)\n",
    "print(\"Resta:\\n\", resta)\n",
    "print(\"Producto:\\n\", producto)\n",
    "print(\"División:\\n\", division)\n",
    "\n",
    "# Potencias\n",
    "potencia_2 = serie1 ** 2\n",
    "potencia_3 = serie1 ** 3\n",
    "potencia_4 = serie1 ** 4\n",
    "\n",
    "print(\"\\nSerie1 al cuadrado:\\n\", potencia_2)\n",
    "print(\"Serie1 al cubo:\\n\", potencia_3)\n",
    "print(\"Serie1 a la cuarta:\\n\", potencia_4)\n"
   ]
  },
  {
   "cell_type": "markdown",
   "id": "b8dac397",
   "metadata": {},
   "source": [
    "### **Actividad 4:** \n",
    "Filtrado con condiciones.\n",
    "* Crea una Series de edades de 10 personas.\n",
    "* Muestra solo a los mayores de 18.\n",
    "* Reemplaza a los menores por \"Menor de edad\"."
   ]
  },
  {
   "cell_type": "code",
   "execution_count": null,
   "id": "d04fd492",
   "metadata": {},
   "outputs": [],
   "source": [
    "\n",
    "# todo:\n",
    "# Serie de edades\n",
    "edades = pd.Series([12, 23, 21, 19, 26, 18, 14, 32, 16, 17])\n",
    "\n",
    "# Filtrar mayores de edad\n",
    "mayores = edades[edades > 18]\n",
    "print(\"Mayores de 18:\\n\", mayores)\n",
    "\n",
    "# Reemplazar menores por Menor de edad\n",
    "edades_filtradas = edades.apply(lambda x: x if x >= 18 else \"Menor de edad\")\n",
    "print(\"\\nSerie con menores reemplazados:\")\n",
    "print(edades_filtradas)\n"
   ]
  },
  {
   "cell_type": "markdown",
   "id": "8889d0f2",
   "metadata": {},
   "source": [
    "### Actividad 5:\n",
    "Estadísticas básicas.\n",
    "\n",
    "* Crea una Series con las notas de 10 estudiantes.\n",
    "* Calcula la media, mediana, desviación estándar y máximo.\n",
    "* Muestra cuántos estudiantes aprobaron si el mínimo para aprobar es 6.\n",
    "* Ordenar las notas de manera ascendente y descendente. "
   ]
  },
  {
   "cell_type": "code",
   "execution_count": null,
   "id": "bc0ec844",
   "metadata": {},
   "outputs": [],
   "source": [
    "\n",
    "# todo:\n",
    "# Serie de notas\n",
    "notas = pd.Series([8, 5, 9, 3, 6, 7, 4, 10, 5, 6])\n",
    "\n",
    "# Cálculos estadísticos\n",
    "media = notas.mean()\n",
    "mediana = notas.median()\n",
    "desviacion = notas.std()\n",
    "maximo = notas.max()\n",
    "\n",
    "print(f\"Media: {media}, Mediana: {mediana}, Desviación estándar: {desviacion}, Máximo: {maximo}\")\n",
    "\n",
    "# Estudiantes que aprobaron\n",
    "aprobados = notas[notas >= 6]\n",
    "print(\"\\nEstudiantes aprobados:\\n\", aprobados)\n",
    "print(f\"Cantidad de aprobados: {len(aprobados)}\")\n",
    "\n",
    "# Ordenar notas\n",
    "print(\"\\nNotas ordenadas ascendente:\\n\", notas.sort_values())\n",
    "print(\"Notas ordenadas descendente:\\n\", notas.sort_values(ascending=False))\n",
    "\n"
   ]
  }
 ],
 "metadata": {
  "kernelspec": {
   "display_name": "env",
   "language": "python",
   "name": "python3"
  },
  "language_info": {
   "codemirror_mode": {
    "name": "ipython",
    "version": 3
   },
   "file_extension": ".py",
   "mimetype": "text/x-python",
   "name": "python",
   "nbconvert_exporter": "python",
   "pygments_lexer": "ipython3",
   "version": "3.13.2"
  }
 },
 "nbformat": 4,
 "nbformat_minor": 5
}
